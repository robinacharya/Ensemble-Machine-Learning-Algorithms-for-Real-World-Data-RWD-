{
  "nbformat": 4,
  "nbformat_minor": 0,
  "metadata": {
    "colab": {
      "provenance": [],
      "include_colab_link": true
    },
    "kernelspec": {
      "name": "python3",
      "display_name": "Python 3"
    },
    "language_info": {
      "name": "python"
    }
  },
  "cells": [
    {
      "cell_type": "markdown",
      "metadata": {
        "id": "view-in-github",
        "colab_type": "text"
      },
      "source": [
        "<a href=\"https://colab.research.google.com/github/robinacharya/Ensemble-Machine-Learning-Algorithms-for-Real-World-Data-RWD-/blob/XGBM/XGBM.ipynb\" target=\"_parent\"><img src=\"https://colab.research.google.com/assets/colab-badge.svg\" alt=\"Open In Colab\"/></a>"
      ]
    },
    {
      "cell_type": "code",
      "execution_count": null,
      "metadata": {
        "id": "hCct6Wl5S1nY"
      },
      "outputs": [],
      "source": [
        "# XGBM Classification"
      ]
    },
    {
      "cell_type": "code",
      "source": [
        "import pandas as pd\n",
        "from sklearn.model_selection import train_test_split, GridSearchCV\n",
        "from sklearn.preprocessing import LabelEncoder\n",
        "from sklearn.metrics import classification_report, accuracy_score, confusion_matrix, roc_curve, auc\n",
        "from xgboost import XGBClassifier\n",
        "import matplotlib.pyplot as plt\n"
      ],
      "metadata": {
        "id": "grFiOKduTKN_"
      },
      "execution_count": 1,
      "outputs": []
    },
    {
      "cell_type": "code",
      "source": [
        "# Load the dataset\n",
        "# Mount Google Drive\n",
        "from google.colab import drive\n",
        "drive.mount('/content/drive')"
      ],
      "metadata": {
        "colab": {
          "base_uri": "https://localhost:8080/"
        },
        "id": "wVoD89jRTKQV",
        "outputId": "9810cbbb-32ff-43e9-d4ea-d7e27488a983"
      },
      "execution_count": 2,
      "outputs": [
        {
          "output_type": "stream",
          "name": "stdout",
          "text": [
            "Mounted at /content/drive\n"
          ]
        }
      ]
    },
    {
      "cell_type": "code",
      "source": [
        "# Load the dataset from Google Drive\n",
        "path_to_dataset = \"/content/drive/MyDrive/german_credit_data.csv\"\n",
        "df = pd.read_csv(path_to_dataset)"
      ],
      "metadata": {
        "id": "37HZabvxTwUm"
      },
      "execution_count": 3,
      "outputs": []
    },
    {
      "cell_type": "code",
      "source": [
        "# Display the first few rows of the dataset to understand its structure\n",
        "print(df.head())"
      ],
      "metadata": {
        "colab": {
          "base_uri": "https://localhost:8080/"
        },
        "id": "oSbjXEP5TKR_",
        "outputId": "9780ad77-1425-4311-bbb4-8234bc920164"
      },
      "execution_count": 4,
      "outputs": [
        {
          "output_type": "stream",
          "name": "stdout",
          "text": [
            "   Unnamed: 0  Age     Sex  Job Housing Saving accounts Checking account  \\\n",
            "0           0   67    male    2     own             NaN           little   \n",
            "1           1   22  female    2     own          little         moderate   \n",
            "2           2   49    male    1     own          little              NaN   \n",
            "3           3   45    male    2    free          little           little   \n",
            "4           4   53    male    2    free          little           little   \n",
            "\n",
            "   Credit amount  Duration              Purpose  Risk  \n",
            "0           1169         6             radio/TV  good  \n",
            "1           5951        48             radio/TV   bad  \n",
            "2           2096        12            education  good  \n",
            "3           7882        42  furniture/equipment  good  \n",
            "4           4870        24                  car   bad  \n"
          ]
        }
      ]
    },
    {
      "cell_type": "code",
      "source": [
        "# Encode categorical variables if necessary\n",
        "label_encoders = {}\n",
        "for column in df.select_dtypes(include=['object']).columns:\n",
        "    label_encoders[column] = LabelEncoder()\n",
        "    df[column] = label_encoders[column].fit_transform(df[column])"
      ],
      "metadata": {
        "id": "DFvftgHyTKXI"
      },
      "execution_count": 5,
      "outputs": []
    },
    {
      "cell_type": "code",
      "source": [
        "# Define features and target variable\n",
        "X = df.drop(columns=['Risk'])\n",
        "y = df['Risk']\n",
        "# Split the data into training and testing sets\n",
        "X_train, X_test, y_train, y_test = train_test_split(X, y, test_size=0.2, random_state=42)\n"
      ],
      "metadata": {
        "id": "1lZM0CTTTKaW"
      },
      "execution_count": 6,
      "outputs": []
    },
    {
      "cell_type": "code",
      "source": [
        "# Initialize the baseline XGBoost model\n",
        "baseline_xgb = XGBClassifier(random_state=42, use_label_encoder=False, eval_metric='logloss')\n",
        "baseline_xgb.fit(X_train, y_train)\n",
        "\n",
        "# Predict on the test set using the baseline model\n",
        "y_pred_baseline = baseline_xgb.predict(X_test)\n",
        "y_prob_baseline = baseline_xgb.predict_proba(X_test)[:, 1]\n"
      ],
      "metadata": {
        "id": "UWskR8PbTKco",
        "colab": {
          "base_uri": "https://localhost:8080/"
        },
        "outputId": "cbc68c44-1a34-4b43-a885-8ffff8e71d40"
      },
      "execution_count": 7,
      "outputs": [
        {
          "output_type": "stream",
          "name": "stderr",
          "text": [
            "/usr/local/lib/python3.10/dist-packages/xgboost/core.py:158: UserWarning: [06:42:29] WARNING: /workspace/src/learner.cc:740: \n",
            "Parameters: { \"use_label_encoder\" } are not used.\n",
            "\n",
            "  warnings.warn(smsg, UserWarning)\n"
          ]
        }
      ]
    },
    {
      "cell_type": "code",
      "source": [
        "# Evaluate the performance of the baseline model\n",
        "print(\"Baseline XGB Model Performance\")\n",
        "print(\"Accuracy:\", accuracy_score(y_test, y_pred_baseline))\n",
        "print(\"Confusion Matrix:\\n\", confusion_matrix(y_test, y_pred_baseline))\n",
        "print(\"Classification Report:\\n\", classification_report(y_test, y_pred_baseline))"
      ],
      "metadata": {
        "colab": {
          "base_uri": "https://localhost:8080/"
        },
        "id": "X3YjQFwETKf-",
        "outputId": "187f5b6a-6c6a-4bcb-e151-de9d953b22b7"
      },
      "execution_count": 8,
      "outputs": [
        {
          "output_type": "stream",
          "name": "stdout",
          "text": [
            "Baseline XGB Model Performance\n",
            "Accuracy: 0.77\n",
            "Confusion Matrix:\n",
            " [[ 29  30]\n",
            " [ 16 125]]\n",
            "Classification Report:\n",
            "               precision    recall  f1-score   support\n",
            "\n",
            "           0       0.64      0.49      0.56        59\n",
            "           1       0.81      0.89      0.84       141\n",
            "\n",
            "    accuracy                           0.77       200\n",
            "   macro avg       0.73      0.69      0.70       200\n",
            "weighted avg       0.76      0.77      0.76       200\n",
            "\n"
          ]
        }
      ]
    },
    {
      "cell_type": "code",
      "source": [
        "# Compute ROC curve and ROC area for baseline model\n",
        "fpr_baseline, tpr_baseline, _ = roc_curve(y_test, y_prob_baseline)\n",
        "roc_auc_baseline = auc(fpr_baseline, tpr_baseline)\n",
        "\n",
        "# Set up the parameter grid for hyperparameter tuning\n",
        "param_grid = {\n",
        "    'n_estimators': [100, 200, 300],\n",
        "    'learning_rate': [0.01, 0.1, 0.2],\n",
        "    'max_depth': [3, 5, 7],\n",
        "    'min_child_weight': [1, 3, 5],\n",
        "    'subsample': [0.8, 1.0],\n",
        "    'colsample_bytree': [0.8, 1.0]\n",
        "}\n",
        "\n",
        "# Initialize GridSearchCV with the XGBoost Classifier\n",
        "grid_search = GridSearchCV(estimator=XGBClassifier(random_state=42, use_label_encoder=False, eval_metric='logloss'),\n",
        "                           param_grid=param_grid,\n",
        "                           cv=3, n_jobs=-1, verbose=2)\n",
        "\n",
        "# Fit GridSearchCV to the training data\n",
        "grid_search.fit(X_train, y_train)\n",
        "\n",
        "# Retrieve the best estimator\n",
        "best_xgb = grid_search.best_estimator_\n",
        "\n",
        "# Print the best parameters found by GridSearchCV\n",
        "print(\"Best Parameters Found by GridSearchCV:\\n\", grid_search.best_params_)"
      ],
      "metadata": {
        "colab": {
          "base_uri": "https://localhost:8080/"
        },
        "id": "uaNXFjQHTKiV",
        "outputId": "05412bcf-c2c9-41fa-ae30-758314715ea7"
      },
      "execution_count": 9,
      "outputs": [
        {
          "output_type": "stream",
          "name": "stdout",
          "text": [
            "Fitting 3 folds for each of 324 candidates, totalling 972 fits\n",
            "Best Parameters Found by GridSearchCV:\n",
            " {'colsample_bytree': 0.8, 'learning_rate': 0.1, 'max_depth': 3, 'min_child_weight': 3, 'n_estimators': 300, 'subsample': 1.0}\n"
          ]
        },
        {
          "output_type": "stream",
          "name": "stderr",
          "text": [
            "/usr/local/lib/python3.10/dist-packages/xgboost/core.py:158: UserWarning: [06:44:38] WARNING: /workspace/src/learner.cc:740: \n",
            "Parameters: { \"use_label_encoder\" } are not used.\n",
            "\n",
            "  warnings.warn(smsg, UserWarning)\n"
          ]
        }
      ]
    },
    {
      "cell_type": "code",
      "source": [
        "# Train the best estimator with the training data\n",
        "best_xgb.fit(X_train, y_train)\n",
        "\n",
        "# Predict on the test set using the tuned model\n",
        "y_pred_tuned = best_xgb.predict(X_test)\n",
        "y_prob_tuned = best_xgb.predict_proba(X_test)[:, 1]\n",
        "\n",
        "# Evaluate the performance of the tuned model\n",
        "print(\"Tuned XGB Model Performance\")\n",
        "print(\"Accuracy:\", accuracy_score(y_test, y_pred_tuned))\n",
        "print(\"Confusion Matrix:\\n\", confusion_matrix(y_test, y_pred_tuned))\n",
        "print(\"Classification Report:\\n\", classification_report(y_test, y_pred_tuned))"
      ],
      "metadata": {
        "colab": {
          "base_uri": "https://localhost:8080/"
        },
        "id": "lOTwZh9dTKkN",
        "outputId": "d3d177f5-550a-48fb-8c91-a741bae89496"
      },
      "execution_count": 10,
      "outputs": [
        {
          "output_type": "stream",
          "name": "stderr",
          "text": [
            "/usr/local/lib/python3.10/dist-packages/xgboost/core.py:158: UserWarning: [06:44:38] WARNING: /workspace/src/learner.cc:740: \n",
            "Parameters: { \"use_label_encoder\" } are not used.\n",
            "\n",
            "  warnings.warn(smsg, UserWarning)\n"
          ]
        },
        {
          "output_type": "stream",
          "name": "stdout",
          "text": [
            "Tuned XGB Model Performance\n",
            "Accuracy: 0.755\n",
            "Confusion Matrix:\n",
            " [[ 28  31]\n",
            " [ 18 123]]\n",
            "Classification Report:\n",
            "               precision    recall  f1-score   support\n",
            "\n",
            "           0       0.61      0.47      0.53        59\n",
            "           1       0.80      0.87      0.83       141\n",
            "\n",
            "    accuracy                           0.76       200\n",
            "   macro avg       0.70      0.67      0.68       200\n",
            "weighted avg       0.74      0.76      0.75       200\n",
            "\n"
          ]
        }
      ]
    },
    {
      "cell_type": "code",
      "source": [
        "# Compute ROC curve and ROC area for tuned model\n",
        "fpr_tuned, tpr_tuned, _ = roc_curve(y_test, y_prob_tuned)\n",
        "roc_auc_tuned = auc(fpr_tuned, tpr_tuned)\n",
        "\n",
        "# Plotting the ROC curves\n",
        "plt.figure()\n",
        "plt.plot(fpr_baseline, tpr_baseline, color='darkorange', lw=2, label='Baseline XGB ROC curve (area = %0.2f)' % roc_auc_baseline)\n",
        "plt.plot(fpr_tuned, tpr_tuned, color='blue', lw=2, label='Tuned XGB ROC curve (area = %0.2f)' % roc_auc_tuned)\n",
        "plt.plot([0, 1], [0, 1], color='gray', lw=2, linestyle='--')\n",
        "plt.xlim([0.0, 1.0])\n",
        "plt.ylim([0.0, 1.05])\n",
        "plt.xlabel('False Positive Rate')\n",
        "plt.ylabel('True Positive Rate')\n",
        "plt.title('Receiver Operating Characteristic (ROC) Curve')\n",
        "plt.legend(loc=\"lower right\")\n",
        "plt.show()"
      ],
      "metadata": {
        "colab": {
          "base_uri": "https://localhost:8080/",
          "height": 472
        },
        "id": "-owPvwRMTKmN",
        "outputId": "0c4d3767-f6bc-491c-c5ce-3275ca5d08ca"
      },
      "execution_count": 11,
      "outputs": [
        {
          "output_type": "display_data",
          "data": {
            "text/plain": [
              "<Figure size 640x480 with 1 Axes>"
            ],
            "image/png": "[encoded data removed]"
          },
          "metadata": {}
        }
      ]
    },
    {
      "cell_type": "code",
      "source": [],
      "metadata": {
        "id": "mMR04xZKTK5i"
      },
      "execution_count": 11,
      "outputs": []
    }
  ]
}